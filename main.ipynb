{
 "cells": [
  {
   "cell_type": "code",
   "execution_count": 4,
   "metadata": {},
   "outputs": [
    {
     "name": "stderr",
     "output_type": "stream",
     "text": [
      "d:\\anaconda\\envs\\UW-M\\lib\\site-packages\\tqdm\\auto.py:21: TqdmWarning: IProgress not found. Please update jupyter and ipywidgets. See https://ipywidgets.readthedocs.io/en/stable/user_install.html\n",
      "  from .autonotebook import tqdm as notebook_tqdm\n"
     ]
    },
    {
     "name": "stdout",
     "output_type": "stream",
     "text": [
      "Warning: Looks like you're using an outdated `kagglehub` version, please consider updating (latest version: 0.3.10)\n",
      "Path to dataset files: C:\\Users\\26311\\.cache\\kagglehub\\datasets\\kiva\\data-science-for-good-kiva-crowdfunding\\versions\\5\n"
     ]
    }
   ],
   "source": [
    "import kagglehub\n",
    "\n",
    "# Download latest version\n",
    "path = kagglehub.dataset_download(\"kiva/data-science-for-good-kiva-crowdfunding\")\n",
    "\n",
    "print(\"Path to dataset files:\", path)"
   ]
  },
  {
   "cell_type": "code",
   "execution_count": 19,
   "metadata": {},
   "outputs": [
    {
     "name": "stdout",
     "output_type": "stream",
     "text": [
      "current dir: d:\\security_experiment\n"
     ]
    }
   ],
   "source": [
    "import pandas as pd\n",
    "import os\n",
    "\n",
    "current_dir = os.getcwd()  \n",
    "print(\"current dir:\", current_dir)\n",
    "\n",
    "df = pd.read_csv('data/kiva_loans.csv')\n",
    "selected_columns = ['id','funded_amount','loan_amount','activity','sector','use','country','currency']\n",
    "df = df[selected_columns]\n",
    "loans_df = df.head(4000)"
   ]
  },
  {
   "cell_type": "code",
   "execution_count": 23,
   "metadata": {},
   "outputs": [
    {
     "name": "stdout",
     "output_type": "stream",
     "text": [
      "database created\n"
     ]
    }
   ],
   "source": [
    "import sqlite3\n",
    "import pandas as pd\n",
    "from werkzeug.security import generate_password_hash\n",
    "\n",
    "users_df = pd.read_csv('data/user.csv').head(1000)\n",
    "\n",
    "conn = sqlite3.connect(\"database.db\")\n",
    "\n",
    "users_df[\"password\"] = users_df[\"password\"].apply(lambda x: generate_password_hash(str(x)))\n",
    "\n",
    "users_df.to_sql(\"users\", conn, if_exists=\"replace\", index=False)\n",
    "loans_df.to_sql(\"loans\", conn, if_exists=\"replace\", index=False)\n",
    "\n",
    "conn.close()\n",
    "print(\"database created\")\n"
   ]
  }
 ],
 "metadata": {
  "kernelspec": {
   "display_name": "UW-M",
   "language": "python",
   "name": "python3"
  },
  "language_info": {
   "codemirror_mode": {
    "name": "ipython",
    "version": 3
   },
   "file_extension": ".py",
   "mimetype": "text/x-python",
   "name": "python",
   "nbconvert_exporter": "python",
   "pygments_lexer": "ipython3",
   "version": "3.8.20"
  }
 },
 "nbformat": 4,
 "nbformat_minor": 2
}
